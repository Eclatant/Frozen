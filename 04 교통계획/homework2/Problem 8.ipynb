{
 "cells": [
  {
   "cell_type": "code",
   "execution_count": 2,
   "metadata": {
    "collapsed": true
   },
   "outputs": [],
   "source": [
    "import pandas as pd\n",
    "from pandas import Series, DataFrame\n",
    "import numpy as np"
   ]
  },
  {
   "cell_type": "code",
   "execution_count": 3,
   "metadata": {
    "collapsed": true
   },
   "outputs": [],
   "source": [
    "a = np.array([[22/19, 96/37, 0],\n",
    "[42/29, 123/39, 30/14],\n",
    "[37/25, 279/61, 396/84],\n",
    "[30/15, 368/84, 502/99]])"
   ]
  },
  {
   "cell_type": "code",
   "execution_count": 4,
   "metadata": {},
   "outputs": [
    {
     "data": {
      "text/plain": [
       "array([[ 1.15789474,  2.59459459,  0.        ],\n",
       "       [ 1.44827586,  3.15384615,  2.14285714],\n",
       "       [ 1.48      ,  4.57377049,  4.71428571],\n",
       "       [ 2.        ,  4.38095238,  5.07070707]])"
      ]
     },
     "execution_count": 4,
     "metadata": {},
     "output_type": "execute_result"
    }
   ],
   "source": [
    "a"
   ]
  },
  {
   "cell_type": "code",
   "execution_count": 6,
   "metadata": {},
   "outputs": [
    {
     "name": "stdout",
     "output_type": "stream",
     "text": [
      "통행발생 원단위\n"
     ]
    },
    {
     "data": {
      "text/html": [
       "<div>\n",
       "<table border=\"1\" class=\"dataframe\">\n",
       "  <thead>\n",
       "    <tr style=\"text-align: right;\">\n",
       "      <th></th>\n",
       "      <th>0대</th>\n",
       "      <th>1대</th>\n",
       "      <th>2대 이상</th>\n",
       "    </tr>\n",
       "  </thead>\n",
       "  <tbody>\n",
       "    <tr>\n",
       "      <th>1명</th>\n",
       "      <td>1.157895</td>\n",
       "      <td>2.594595</td>\n",
       "      <td>0.000000</td>\n",
       "    </tr>\n",
       "    <tr>\n",
       "      <th>2명</th>\n",
       "      <td>1.448276</td>\n",
       "      <td>3.153846</td>\n",
       "      <td>2.142857</td>\n",
       "    </tr>\n",
       "    <tr>\n",
       "      <th>3명</th>\n",
       "      <td>1.480000</td>\n",
       "      <td>4.573770</td>\n",
       "      <td>4.714286</td>\n",
       "    </tr>\n",
       "    <tr>\n",
       "      <th>4명 이상</th>\n",
       "      <td>2.000000</td>\n",
       "      <td>4.380952</td>\n",
       "      <td>5.070707</td>\n",
       "    </tr>\n",
       "  </tbody>\n",
       "</table>\n",
       "</div>"
      ],
      "text/plain": [
       "             0대        1대     2대 이상\n",
       "1명     1.157895  2.594595  0.000000\n",
       "2명     1.448276  3.153846  2.142857\n",
       "3명     1.480000  4.573770  4.714286\n",
       "4명 이상  2.000000  4.380952  5.070707"
      ]
     },
     "execution_count": 6,
     "metadata": {},
     "output_type": "execute_result"
    }
   ],
   "source": [
    "df = DataFrame(a,\n",
    "               index=[\"1명\", \"2명\", \"3명\", \"4명 이상\"],\n",
    "               columns=[\"0대\", \"1대\", \"2대 이상\"])\n",
    "print(\"통행발생 원단위\")\n",
    "df"
   ]
  },
  {
   "cell_type": "code",
   "execution_count": 7,
   "metadata": {},
   "outputs": [
    {
     "data": {
      "text/plain": [
       "array([[ 24,  42,   8],\n",
       "       [ 10,  51, 107],\n",
       "       [ 11,  31, 158],\n",
       "       [  3,  17, 309]])"
      ]
     },
     "execution_count": 7,
     "metadata": {},
     "output_type": "execute_result"
    }
   ],
   "source": [
    "b = np.array([[24, 42, 8],\n",
    "[10, 51, 107],\n",
    "[11, 31, 158],\n",
    "[3, 17, 309]])\n",
    "b"
   ]
  },
  {
   "cell_type": "code",
   "execution_count": 8,
   "metadata": {},
   "outputs": [
    {
     "data": {
      "text/html": [
       "<div>\n",
       "<table border=\"1\" class=\"dataframe\">\n",
       "  <thead>\n",
       "    <tr style=\"text-align: right;\">\n",
       "      <th></th>\n",
       "      <th>0대</th>\n",
       "      <th>1대</th>\n",
       "      <th>2대 이상</th>\n",
       "    </tr>\n",
       "  </thead>\n",
       "  <tbody>\n",
       "    <tr>\n",
       "      <th>1명</th>\n",
       "      <td>24</td>\n",
       "      <td>42</td>\n",
       "      <td>8</td>\n",
       "    </tr>\n",
       "    <tr>\n",
       "      <th>2명</th>\n",
       "      <td>10</td>\n",
       "      <td>51</td>\n",
       "      <td>107</td>\n",
       "    </tr>\n",
       "    <tr>\n",
       "      <th>3명</th>\n",
       "      <td>11</td>\n",
       "      <td>31</td>\n",
       "      <td>158</td>\n",
       "    </tr>\n",
       "    <tr>\n",
       "      <th>4명 이상</th>\n",
       "      <td>3</td>\n",
       "      <td>17</td>\n",
       "      <td>309</td>\n",
       "    </tr>\n",
       "  </tbody>\n",
       "</table>\n",
       "</div>"
      ],
      "text/plain": [
       "       0대  1대  2대 이상\n",
       "1명     24  42      8\n",
       "2명     10  51    107\n",
       "3명     11  31    158\n",
       "4명 이상   3  17    309"
      ]
     },
     "execution_count": 8,
     "metadata": {},
     "output_type": "execute_result"
    }
   ],
   "source": [
    "future = DataFrame(b,\n",
    "                   index=[\"1명\", \"2명\", \"3명\", \"4명 이상\"],\n",
    "                   columns=[\"0대\", \"1대\", \"2대 이상\"])\n",
    "future"
   ]
  },
  {
   "cell_type": "code",
   "execution_count": 9,
   "metadata": {
    "scrolled": true
   },
   "outputs": [
    {
     "data": {
      "text/html": [
       "<div>\n",
       "<table border=\"1\" class=\"dataframe\">\n",
       "  <thead>\n",
       "    <tr style=\"text-align: right;\">\n",
       "      <th></th>\n",
       "      <th>0대</th>\n",
       "      <th>1대</th>\n",
       "      <th>2대 이상</th>\n",
       "    </tr>\n",
       "  </thead>\n",
       "  <tbody>\n",
       "    <tr>\n",
       "      <th>1명</th>\n",
       "      <td>27.789474</td>\n",
       "      <td>108.972973</td>\n",
       "      <td>0.000000</td>\n",
       "    </tr>\n",
       "    <tr>\n",
       "      <th>2명</th>\n",
       "      <td>14.482759</td>\n",
       "      <td>160.846154</td>\n",
       "      <td>229.285714</td>\n",
       "    </tr>\n",
       "    <tr>\n",
       "      <th>3명</th>\n",
       "      <td>16.280000</td>\n",
       "      <td>141.786885</td>\n",
       "      <td>744.857143</td>\n",
       "    </tr>\n",
       "    <tr>\n",
       "      <th>4명 이상</th>\n",
       "      <td>6.000000</td>\n",
       "      <td>74.476190</td>\n",
       "      <td>1566.848485</td>\n",
       "    </tr>\n",
       "  </tbody>\n",
       "</table>\n",
       "</div>"
      ],
      "text/plain": [
       "              0대          1대        2대 이상\n",
       "1명     27.789474  108.972973     0.000000\n",
       "2명     14.482759  160.846154   229.285714\n",
       "3명     16.280000  141.786885   744.857143\n",
       "4명 이상   6.000000   74.476190  1566.848485"
      ]
     },
     "execution_count": 9,
     "metadata": {},
     "output_type": "execute_result"
    }
   ],
   "source": [
    "future * df"
   ]
  },
  {
   "cell_type": "code",
   "execution_count": 11,
   "metadata": {},
   "outputs": [
    {
     "data": {
      "text/plain": [
       "3091.6257768374608"
      ]
     },
     "execution_count": 11,
     "metadata": {},
     "output_type": "execute_result"
    }
   ],
   "source": [
    "(future * df).sum().sum()"
   ]
  }
 ],
 "metadata": {
  "kernelspec": {
   "display_name": "Python 3",
   "language": "python",
   "name": "python3"
  },
  "language_info": {
   "codemirror_mode": {
    "name": "ipython",
    "version": 3
   },
   "file_extension": ".py",
   "mimetype": "text/x-python",
   "name": "python",
   "nbconvert_exporter": "python",
   "pygments_lexer": "ipython3",
   "version": "3.4.4"
  }
 },
 "nbformat": 4,
 "nbformat_minor": 2
}
